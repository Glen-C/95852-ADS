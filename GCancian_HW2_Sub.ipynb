{
 "cells": [
  {
   "cell_type": "code",
   "execution_count": 2,
   "metadata": {},
   "outputs": [
    {
     "name": "stdout",
     "output_type": "stream",
     "text": [
      "Requirement already satisfied: pandas in /usr/local/lib/python2.7/dist-packages\n",
      "Requirement already satisfied: pytz>=2011k in /usr/local/lib/python2.7/dist-packages (from pandas)\n",
      "Requirement already satisfied: python-dateutil in /usr/local/lib/python2.7/dist-packages (from pandas)\n",
      "Requirement already satisfied: numpy>=1.7.0 in /usr/local/lib/python2.7/dist-packages (from pandas)\n",
      "Requirement already satisfied: seaborn in /usr/local/lib/python2.7/dist-packages\n"
     ]
    }
   ],
   "source": [
    "#this code introduces you to machine learning training and inference (predictions) in Python on AWS\n",
    "\n",
    "#start a line with '!' to write to the command line instead. \n",
    "#This allows you to install packages to the EC2 instance from within jupyter\n",
    "\n",
    "!pip install pandas\n",
    "!pip install seaborn\n",
    "#!pip install sklearn\n",
    "#!pip install numpy"
   ]
  },
  {
   "cell_type": "code",
   "execution_count": 3,
   "metadata": {},
   "outputs": [
    {
     "name": "stdout",
     "output_type": "stream",
     "text": [
      "\u001b[33mThe directory '/home/ubuntu/.cache/pip/http' or its parent directory is not owned by the current user and the cache has been disabled. Please check the permissions and owner of that directory. If executing pip with sudo, you may want sudo's -H flag.\u001b[0m\n",
      "\u001b[33mThe directory '/home/ubuntu/.cache/pip' or its parent directory is not owned by the current user and caching wheels has been disabled. check the permissions and owner of that directory. If executing pip with sudo, you may want sudo's -H flag.\u001b[0m\n",
      "Requirement already satisfied: numpy in /usr/local/lib/python2.7/dist-packages\n",
      "\u001b[33mThe directory '/home/ubuntu/.cache/pip/http' or its parent directory is not owned by the current user and the cache has been disabled. Please check the permissions and owner of that directory. If executing pip with sudo, you may want sudo's -H flag.\u001b[0m\n",
      "\u001b[33mThe directory '/home/ubuntu/.cache/pip' or its parent directory is not owned by the current user and caching wheels has been disabled. check the permissions and owner of that directory. If executing pip with sudo, you may want sudo's -H flag.\u001b[0m\n",
      "Requirement already satisfied: scipy in /usr/local/lib/python2.7/dist-packages\n",
      "Requirement already satisfied: numpy>=1.8.2 in /usr/local/lib/python2.7/dist-packages (from scipy)\n",
      "\u001b[33mThe directory '/home/ubuntu/.cache/pip/http' or its parent directory is not owned by the current user and the cache has been disabled. Please check the permissions and owner of that directory. If executing pip with sudo, you may want sudo's -H flag.\u001b[0m\n",
      "\u001b[33mThe directory '/home/ubuntu/.cache/pip' or its parent directory is not owned by the current user and caching wheels has been disabled. check the permissions and owner of that directory. If executing pip with sudo, you may want sudo's -H flag.\u001b[0m\n",
      "Requirement already up-to-date: scikit-learn in /usr/local/lib/python2.7/dist-packages\n"
     ]
    }
   ],
   "source": [
    "!sudo pip install numpy\n",
    "!sudo pip install scipy\n",
    "!sudo pip install -U scikit-learn"
   ]
  },
  {
   "cell_type": "code",
   "execution_count": 10,
   "metadata": {
    "scrolled": true
   },
   "outputs": [
    {
     "name": "stdout",
     "output_type": "stream",
     "text": [
      "shape of the data frame(150, 5)\n",
      "species\n",
      "setosa        50\n",
      "versicolor    50\n",
      "virginica     50\n",
      "dtype: int64\n"
     ]
    }
   ],
   "source": [
    "#import the packages that you installed\n",
    "import pandas as pd\n",
    "import seaborn.apionly as sns\n",
    "import sklearn\n",
    "from sklearn.model_selection import train_test_split\n",
    "import numpy as np\n",
    "from sklearn.ensemble import RandomForestClassifier\n",
    "from sklearn.metrics import confusion_matrix, roc_curve, auc\n",
    "from sklearn.model_selection import GridSearchCV\n",
    "from sklearn.model_selection import RandomizedSearchCV\n",
    "from scipy.stats import randint as sp_randint\n",
    "import time\n",
    "import random\n",
    "import matplotlib.pyplot as plt\n",
    "%matplotlib inline\n",
    "\n",
    "#load a default seaborn dataset, display simple stats about data size, and then print the data's head\n",
    "df = pd.DataFrame(sns.load_dataset('iris'))\n",
    "print 'shape of the data frame'+str(df.shape)\n",
    "print df.groupby(['species']).size()\n",
    "#df.head(50)"
   ]
  },
  {
   "cell_type": "code",
   "execution_count": null,
   "metadata": {},
   "outputs": [],
   "source": [
    "#showoff some of what seaborn can do\n",
    "sns.pairplot(df, hue=\"species\", diag_kind=\"kde\",markers=['o','x','+'])"
   ]
  },
  {
   "cell_type": "code",
   "execution_count": 5,
   "metadata": {},
   "outputs": [
    {
     "name": "stdout",
     "output_type": "stream",
     "text": [
      "y\n",
      "0    100\n",
      "1     50\n",
      "dtype: int64\n"
     ]
    }
   ],
   "source": [
    "#let's group setosa and verginica together for the sake of this machine learning exercise\n",
    "df['y']= np.where(df['species']=='versicolor', 1,0)\n",
    "print df.groupby(['y']).size()"
   ]
  },
  {
   "cell_type": "code",
   "execution_count": null,
   "metadata": {
    "collapsed": true
   },
   "outputs": [],
   "source": [
    "df.head(15)"
   ]
  },
  {
   "cell_type": "code",
   "execution_count": 6,
   "metadata": {},
   "outputs": [
    {
     "name": "stdout",
     "output_type": "stream",
     "text": [
      "the number in training set: 112\n",
      "the number in test set: 38\n"
     ]
    }
   ],
   "source": [
    "#split into train and test\n",
    "X=df.drop('species',1).drop('y',1)\n",
    "y=df['y']\n",
    "RANDOM_STATE=0\n",
    "X_train, X_test, y_train, y_test = train_test_split(X, y, test_size=0.25, random_state=RANDOM_STATE)\n",
    "print ('the number in training set: '+str(len(X_train)))\n",
    "print ('the number in test set: '+str(len(X_test)))\n"
   ]
  },
  {
   "cell_type": "code",
   "execution_count": 22,
   "metadata": {},
   "outputs": [
    {
     "data": {
      "text/plain": [
       "SGDClassifier(alpha=1e-05, average=False, class_weight=None, epsilon=0.1,\n",
       "       eta0=0.1, fit_intercept=True, l1_ratio=0.15,\n",
       "       learning_rate='optimal', loss='hinge', max_iter=5, n_iter=None,\n",
       "       n_jobs=1, penalty='l2', power_t=0.5, random_state=None,\n",
       "       shuffle=True, tol=None, verbose=0, warm_start=False)"
      ]
     },
     "execution_count": 22,
     "metadata": {},
     "output_type": "execute_result"
    }
   ],
   "source": [
    "from sklearn.linear_model import SGDClassifier\n",
    "\n",
    "clf2 = SGDClassifier(loss=\"hinge\", penalty=\"l2\")\n",
    "clf2.fit(X, y)\n",
    "SGDClassifier(alpha=0.00001, average=False, class_weight=None, epsilon=0.1,\n",
    "       eta0=0.1, fit_intercept=True, l1_ratio=0.15,\n",
    "       learning_rate='optimal', loss='hinge', max_iter=5, n_iter=None,\n",
    "       n_jobs=1, penalty='l2', power_t=0.5, random_state=None,\n",
    "       shuffle=True, tol=None, verbose=0, warm_start=False)"
   ]
  },
  {
   "cell_type": "code",
   "execution_count": 23,
   "metadata": {},
   "outputs": [
    {
     "name": "stdout",
     "output_type": "stream",
     "text": [
      "RandomizedSearchCV examined 8 candidate parameter settings.\n",
      "Model with rank: 1\n",
      "Mean OOB score: 0.696 (std: 0.009)\n",
      "Parameters: {'penalty': 'elasticnet', 'loss': 'log'}\n",
      "\n",
      "Model with rank: 2\n",
      "Mean OOB score: 0.688 (std: 0.011)\n",
      "Parameters: {'penalty': 'l1', 'loss': 'log'}\n",
      "\n",
      "Model with rank: 3\n",
      "Mean OOB score: 0.661 (std: 0.059)\n",
      "Parameters: {'penalty': 'l1', 'loss': 'hinge'}\n",
      "\n",
      "Model with rank: 3\n",
      "Mean OOB score: 0.661 (std: 0.047)\n",
      "Parameters: {'penalty': 'l2', 'loss': 'hinge'}\n",
      "\n",
      "Model with rank: 5\n",
      "Mean OOB score: 0.571 (std: 0.183)\n",
      "Parameters: {'penalty': 'elasticnet', 'loss': 'hinge'}\n",
      "\n"
     ]
    }
   ],
   "source": [
    "#Randomized search for model selection\n",
    "#clf = RandomForestClassifier(n_estimators=10)\n",
    "# Utility function to report best scores\n",
    "def report(results, n_top=5):\n",
    "    for i in range(1, n_top + 1):\n",
    "        candidates = np.flatnonzero(results['rank_test_score'] == i)\n",
    "        for candidate in candidates:\n",
    "            print(\"Model with rank: {0}\".format(i))\n",
    "            print(\"Mean OOB score: {0:.3f} (std: {1:.3f})\".format(\n",
    "                  results['mean_test_score'][candidate],\n",
    "                  results['std_test_score'][candidate]))\n",
    "            print(\"Parameters: {0}\".format(results['params'][candidate]))\n",
    "            print(\"\")\n",
    "\n",
    "\n",
    "# specify parameters and distributions to sample from\n",
    "param_dist = {\"penalty\": ['l1', 'l2', 'elasticnet'],\n",
    "              \"loss\": ['hinge','modified_huber','log']}\n",
    "\n",
    "# run randomized search\n",
    "n_iter_search = 8\n",
    "random_search = RandomizedSearchCV(clf2, param_distributions=param_dist,\n",
    "                                   n_iter=n_iter_search)\n",
    "\n",
    "random_search.fit(X_train, y_train)\n",
    "#this might take a minute to run\n",
    "print(\"RandomizedSearchCV examined %d candidate parameter settings.\" % (n_iter_search))\n",
    "report(random_search.cv_results_)"
   ]
  },
  {
   "cell_type": "code",
   "execution_count": 30,
   "metadata": {},
   "outputs": [
    {
     "name": "stdout",
     "output_type": "stream",
     "text": [
      "\n",
      "confusion matrix\n",
      "Predicted   0  All\n",
      "True              \n",
      "0          22   22\n",
      "1          16   16\n",
      "All        38   38\n",
      "\n",
      "auc score 0.686079545455\n"
     ]
    }
   ],
   "source": [
    "#2.5 Train the random forest according to the best paramater setting given above. Show model outputs.\n",
    "\n",
    "#YOUR HOMEWORK IS TO SWITCH RANDOM FOREST CLASSIFIED WITH ANOTHER CLASSIFIER FROM THE SCIKIT LEARN API\n",
    "#http://scikit-learn.org/stable/\n",
    "\n",
    "# these are hard coded based on the above results.\n",
    "#clf = RandomForestClassifier(n_estimators=50, oob_score=True, max_features=3, criterion='gini',\n",
    "#                             bootstrap=True,min_samples_split=3,min_samples_leaf=3,max_depth=3)\n",
    "\n",
    "clf = SGDClassifier(alpha=1e-05, average=False, class_weight=None, epsilon=0.1,\n",
    "       eta0=0.1, fit_intercept=True, l1_ratio=0.15,\n",
    "       learning_rate='optimal', loss='log', max_iter=5, n_iter=None,\n",
    "       n_jobs=1, penalty='elasticnet', power_t=0.5, random_state=None,\n",
    "       shuffle=True, tol=None, verbose=0, warm_start=False)\n",
    "clf = clf.fit(X_train, y_train)\n",
    "\n",
    "#importances = clf.feature_importances_\n",
    "names = X.columns\n",
    "#items=sorted(zip(map(lambda r: round(r, 3), clf.feature_importances_), names), reverse=True)\n",
    "\n",
    "#print ('\\nfeature importance ')\n",
    "#for r in items:\n",
    "#    print(str(round(r[0],4))+' '+r[1])\n",
    "    \n",
    "y_pred=clf2.predict(X_test)\n",
    "y_scores=clf2.predict_proba(X_test)\n",
    "print ('\\nconfusion matrix')\n",
    "print(pd.crosstab(y_test, y_pred, rownames=['True'], colnames=['Predicted'], margins=True))\n",
    "\n",
    "false_positive_rate, true_positive_rate, thresholds = roc_curve(y_test, y_scores[:,1])\n",
    "print('\\nauc score '+str(auc(false_positive_rate, true_positive_rate)))\n",
    "\n",
    "#show a tradeoff curve for precision vs recall"
   ]
  },
  {
   "cell_type": "code",
   "execution_count": 31,
   "metadata": {},
   "outputs": [
    {
     "data": {
      "image/png": "[encoded data removed]",
      "text/plain": [
       "<matplotlib.figure.Figure at 0x7fc4e657dd10>"
      ]
     },
     "metadata": {},
     "output_type": "display_data"
    }
   ],
   "source": [
    "#2.7 ROC Curve\n",
    "fpr, tpr , threshold = roc_curve(y_test,clf.predict_proba(X_test)[:,1])\n",
    "roc_auc=auc(fpr, tpr)\n",
    "plt.figure()\n",
    "plt.plot(fpr, tpr, label='ROC curve (area = %0.2f)' % roc_auc)\n",
    "plt.plot([0, 1], [0, 1], 'k--')\n",
    "plt.xlim([0.0, 1.0])\n",
    "plt.ylim([0.0, 1.05])\n",
    "#Specificity: How many negatives were identified as negative.\n",
    "plt.xlabel('False Positive Rate (Specificity)')\n",
    "#Recall: How many positives were identified as positive.\n",
    "plt.ylabel('True Positive Rate (Recall)')\n",
    "plt.title('ROC Curve')\n",
    "plt.legend(loc=\"lower right\")\n",
    "plt.show()"
   ]
  },
  {
   "cell_type": "code",
   "execution_count": 32,
   "metadata": {},
   "outputs": [
    {
     "name": "stdout",
     "output_type": "stream",
     "text": [
      "finalized_model.sav\tintro_to_python_data_science_on_aws.ipynb\r\n",
      "GCancian_HW2_Sub.ipynb\tmy_local_pickle.sav\r\n",
      "GlenC_HW2_SGD.sav\r\n"
     ]
    },
    {
     "data": {
      "text/plain": [
       "s3.Object(bucket_name='my-bucket-glen-c', key='GlenC_HW2_SGD.sav')"
      ]
     },
     "execution_count": 32,
     "metadata": {},
     "output_type": "execute_result"
    }
   ],
   "source": [
    "#code to save your model to disk and then to s3\n",
    "import pickle\n",
    "local_path = \"/home/ubuntu\" # temp path to export your model\n",
    "bucket_name = \"my-bucket-glen-c\" # s3 key to save your network to\n",
    "\n",
    "# save the model to disk\n",
    "filename = 'GlenC_HW2_SGD.sav'\n",
    "pickle.dump(clf, open(filename, 'wb'))\n",
    "#you should now see your finalized_model.sav in the file path\n",
    "#the ls command prints the contents of this notebook's root folder\n",
    "!ls\n",
    " \n",
    "# Upload to S3\n",
    "#TO GET THIS WORKING, YOU MUST ASSIGN AN ADMIN ROLE TO YOUR EC2 INSTANCE\n",
    "import boto3\n",
    "s3 = boto3.resource('s3')\n",
    "s3.Bucket(bucket_name).put_object(Key='GlenC_HW2_SGD.sav', Body=open('GlenC_HW2_SGD.sav'))"
   ]
  },
  {
   "cell_type": "code",
   "execution_count": null,
   "metadata": {},
   "outputs": [],
   "source": [
    "# some time later...\n",
    " \n",
    "# load the model from s3 and make new predictions\n",
    "s3.Bucket(bucket_name).download_file(filename, 'my_local_pickle.sav')\n",
    "loaded_model = pickle.load(open('my_local_pickle.sav', 'rb'))\n",
    "result = loaded_model.score(X_test, y_test)\n",
    "print(result)"
   ]
  },
  {
   "cell_type": "code",
   "execution_count": 38,
   "metadata": {},
   "outputs": [
    {
     "ename": "SyntaxError",
     "evalue": "invalid syntax (<ipython-input-38-02db28457611>, line 10)",
     "output_type": "error",
     "traceback": [
      "\u001b[0;36m  File \u001b[0;32m\"<ipython-input-38-02db28457611>\"\u001b[0;36m, line \u001b[0;32m10\u001b[0m\n\u001b[0;31m    cd 95852-ADS_BIDA/\u001b[0m\n\u001b[0m           ^\u001b[0m\n\u001b[0;31mSyntaxError\u001b[0m\u001b[0;31m:\u001b[0m invalid syntax\n"
     ]
    }
   ],
   "source": [
    "#note that you can now call this model saved in S3 from ANY internet connected location\n",
    "\n",
    "#now push your notebook to your github page and submit the link as your homework\n",
    "#instructions: https://www.howtoforge.com/tutorial/install-git-and-github-on-ubuntu-14.04/\n",
    "#identify your username\n",
    "!git config --global user.name \"Glen-C\"\n",
    "#make a local git repository\n",
    "!git init 95852-ADS_BIDA\n",
    "#navigate to the repo\n",
    "cd 95852-ADS_BIDA/\n",
    "#create a README\n",
    "!echo \"this is my README file\" >>README\n",
    "#move your notebook into the git folder (you will need to re-enter your notebook interface after moving the file)\n",
    "!mv /home/ubuntu/GCancian_HW2_Sub.ipynb /home/ubuntu/HW2/\n",
    "#make a new repo for yourself within your github.com account\n",
    "#add the files that you just made to tracking\n",
    "!git add GCancian_HW2_Sub.ipynb\n",
    "!git add README\n",
    "#then remote add the github repo that you just made\n",
    "!git remote add origin https://github.com/Glen-C/95852-ADS_BIDA.git\n",
    "#then push your files to the git account\n",
    "!git push origin master\n",
    "#you will be prompted to enter your security credentials\n",
    "\n",
    "\n",
    "#if this isn't working for you, another option is to download the file to your local machine using the following:\n",
    "#sudo scp -r -i 'yourkeypair.pem' ubuntu@publicDNS:/home/ubuntu/intro_to_python_data_science_on_aws.ipynb localpath\n",
    "#windows people should use something like FileZilla to transfer files from a linux EC2 server to a local windows machine\n"
   ]
  },
  {
   "cell_type": "code",
   "execution_count": null,
   "metadata": {
    "collapsed": true
   },
   "outputs": [],
   "source": []
  }
 ],
 "metadata": {
  "kernelspec": {
   "display_name": "Python 2",
   "language": "python",
   "name": "python2"
  },
  "language_info": {
   "codemirror_mode": {
    "name": "ipython",
    "version": 2
   },
   "file_extension": ".py",
   "mimetype": "text/x-python",
   "name": "python",
   "nbconvert_exporter": "python",
   "pygments_lexer": "ipython2",
   "version": "2.7.12"
  }
 },
 "nbformat": 4,
 "nbformat_minor": 2
}
